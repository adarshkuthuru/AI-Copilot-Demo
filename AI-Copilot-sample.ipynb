{
 "cells": [
  {
   "cell_type": "code",
   "execution_count": 1,
   "metadata": {},
   "outputs": [],
   "source": [
    "from langchain.chat_models import ChatOpenAI\n",
    "from langchain.chains import RetrievalQA, ConversationalRetrievalChain\n",
    "from langchain.memory import ConversationBufferMemory\n",
    "from langchain import PromptTemplate\n",
    "from langchain.retrievers import TFIDFRetriever"
   ]
  },
  {
   "cell_type": "code",
   "execution_count": 2,
   "metadata": {},
   "outputs": [],
   "source": [
    "retriever = TFIDFRetriever.from_texts(\n",
    "    ['''HPE Ezmeral Unified Analytics, available in January 2022, has been designed to deliver a unified data lake that connects \n",
    "    distributed data stores, public cloud storage, files, and object stores, regardless of where they reside. \n",
    "    The foundation of HPE Ezmeral Unified Analytics is HPE Ezmeral Runtime Enterprise, which delivers containerized orchestration \n",
    "    of both cloud-native and non-cloud applications with a persistent data store. HPE Ezmeral Runtime Enterprise is designed to help organizations \n",
    "    simplify the development, orchestration, and scaling of Kubernetes-based clusters deployed across hybrid environments.\n",
    "    The platform can help data scientists, data engineers, and data analysts to support multiple enterprise-grade containerized AI/ML applications \n",
    "    via the following capabilities\n",
    "    • Multi-tenancy: With the platform’s control plane, organizations can spin up and orchestrate multiple standards-based Kubernetes clusters using physical or virtual compute (CPU or GPU) and storage resources located on-premises or in the public cloud. Organizations can also automate orchestration of workflows, allowing many experiments to be scheduled and run “hands free.” Thus, data science and development teams can share the same infrastructure stack with minimal impact on system performance.\n",
    "    • Unified data lake: The single global namespace provided by HPE Ezmeral Data Fabric provides a consolidated view into files that can reside in separate clusters across on-premises, cloud, and edge environments, thus enabling end-users and their applications to access remote data as if it is locally stored.\n",
    "    • Open platform/ecosystem: HPE Ezmeral Unified Analytics is built on an open source foundation that enables data analytics teams to deploy Kubernetes-based workloads into any AI/ML environment, comprising a wide range of open source tools, container engines, and libraries. NVIDIA Triton, RAPIDS Accelerator, and Apache Spark are included in the platform’s ISV marketplace (see Figure 10 in the Appendix for details).\n",
    "    • Security: Organizations can integrate HPE Ezmeral Runtime Enterprise with enterprise LDAP and AD authentication systems to secure access to jobs, data, or clusters based on groups and/or roles. Access to the multiple applications supported by the platform can be restricted according to business needs. Risk and compliance tenant structure allows for granular security structures.\n",
    "    '''])"
   ]
  },
  {
   "cell_type": "code",
   "execution_count": 4,
   "metadata": {},
   "outputs": [],
   "source": [
    "template = \"\"\"\n",
    "Use the following context (delimited by <ctx></ctx>) and the chat history (delimited by <hs></hs>) to answer the question:\n",
    "------\n",
    "<ctx>\n",
    "{context}\n",
    "</ctx>\n",
    "------\n",
    "<hs>\n",
    "{history}\n",
    "</hs>\n",
    "------\n",
    "{question}\n",
    "Answer:\n",
    "\"\"\"\n",
    "prompt = PromptTemplate(\n",
    "    input_variables=[\"history\", \"context\", \"question\"],\n",
    "    template=template,\n",
    ")\n",
    "\n",
    "qa = RetrievalQA.from_chain_type(\n",
    "    llm=ChatOpenAI(openai_api_key=\"xxx\", temperature=0),\n",
    "    chain_type='stuff',\n",
    "    retriever=retriever,\n",
    "    verbose=True,\n",
    "    chain_type_kwargs={\n",
    "        \"verbose\": True,\n",
    "        \"prompt\": prompt,\n",
    "        \"memory\": ConversationBufferMemory(\n",
    "            memory_key=\"history\",\n",
    "            input_key=\"question\"),\n",
    "    }\n",
    ")"
   ]
  },
  {
   "cell_type": "code",
   "execution_count": 5,
   "metadata": {},
   "outputs": [
    {
     "name": "stdout",
     "output_type": "stream",
     "text": [
      "\n",
      "\n",
      "\u001b[1m> Entering new  chain...\u001b[0m\n",
      "\n",
      "\n",
      "\u001b[1m> Entering new  chain...\u001b[0m\n",
      "\n",
      "\n",
      "\u001b[1m> Entering new  chain...\u001b[0m\n",
      "Prompt after formatting:\n",
      "\u001b[32;1m\u001b[1;3m\n",
      "Use the following context (delimited by <ctx></ctx>) and the chat history (delimited by <hs></hs>) to answer the question:\n",
      "------\n",
      "<ctx>\n",
      "HPE Ezmeral Unified Analytics, available in January 2022, has been designed to deliver a unified data lake that connects \n",
      "    distributed data stores, public cloud storage, files, and object stores, regardless of where they reside. \n",
      "    The foundation of HPE Ezmeral Unified Analytics is HPE Ezmeral Runtime Enterprise, which delivers containerized orchestration \n",
      "    of both cloud-native and non-cloud applications with a persistent data store. HPE Ezmeral Runtime Enterprise is designed to help organizations \n",
      "    simplify the development, orchestration, and scaling of Kubernetes-based clusters deployed across hybrid environments.\n",
      "    The platform can help data scientists, data engineers, and data analysts to support multiple enterprise-grade containerized AI/ML applications \n",
      "    via the following capabilities\n",
      "    • Multi-tenancy: With the platform’s control plane, organizations can spin up and orchestrate multiple standards-based Kubernetes clusters using physical or virtual compute (CPU or GPU) and storage resources located on-premises or in the public cloud. Organizations can also automate orchestration of workflows, allowing many experiments to be scheduled and run “hands free.” Thus, data science and development teams can share the same infrastructure stack with minimal impact on system performance.\n",
      "    • Unified data lake: The single global namespace provided by HPE Ezmeral Data Fabric provides a consolidated view into files that can reside in separate clusters across on-premises, cloud, and edge environments, thus enabling end-users and their applications to access remote data as if it is locally stored.\n",
      "    • Open platform/ecosystem: HPE Ezmeral Unified Analytics is built on an open source foundation that enables data analytics teams to deploy Kubernetes-based workloads into any AI/ML environment, comprising a wide range of open source tools, container engines, and libraries. NVIDIA Triton, RAPIDS Accelerator, and Apache Spark are included in the platform’s ISV marketplace (see Figure 10 in the Appendix for details).\n",
      "    • Security: Organizations can integrate HPE Ezmeral Runtime Enterprise with enterprise LDAP and AD authentication systems to secure access to jobs, data, or clusters based on groups and/or roles. Access to the multiple applications supported by the platform can be restricted according to business needs. Risk and compliance tenant structure allows for granular security structures.\n",
      "    \n",
      "</ctx>\n",
      "------\n",
      "<hs>\n",
      "\n",
      "</hs>\n",
      "------\n",
      "what is HPE Ezmeral Unified Analytics?\n",
      "Answer:\n",
      "\u001b[0m\n",
      "\n",
      "\u001b[1m> Finished chain.\u001b[0m\n",
      "\n",
      "\u001b[1m> Finished chain.\u001b[0m\n",
      "\n",
      "\u001b[1m> Finished chain.\u001b[0m\n"
     ]
    },
    {
     "data": {
      "text/plain": [
       "'HPE Ezmeral Unified Analytics is a platform that provides a unified data lake, connecting distributed data stores, public cloud storage, files, and object stores regardless of their location. It is built on HPE Ezmeral Runtime Enterprise, which offers containerized orchestration for both cloud-native and non-cloud applications with a persistent data store. The platform supports multiple enterprise-grade containerized AI/ML applications and offers capabilities such as multi-tenancy, a unified data lake, an open platform/ecosystem, and security features.'"
      ]
     },
     "execution_count": 5,
     "metadata": {},
     "output_type": "execute_result"
    }
   ],
   "source": [
    "qa.run({\"query\": \"what is HPE Ezmeral Unified Analytics?\"})"
   ]
  },
  {
   "cell_type": "code",
   "execution_count": 8,
   "metadata": {},
   "outputs": [
    {
     "name": "stdout",
     "output_type": "stream",
     "text": [
      "\n",
      "\n",
      "\u001b[1m> Entering new  chain...\u001b[0m\n",
      "\n",
      "\n",
      "\u001b[1m> Entering new  chain...\u001b[0m\n",
      "\n",
      "\n",
      "\u001b[1m> Entering new  chain...\u001b[0m\n",
      "Prompt after formatting:\n",
      "\u001b[32;1m\u001b[1;3m\n",
      "Use the following context (delimited by <ctx></ctx>) and the chat history (delimited by <hs></hs>) to answer the question:\n",
      "------\n",
      "<ctx>\n",
      "HPE Ezmeral Unified Analytics, available in January 2022, has been designed to deliver a unified data lake that connects \n",
      "    distributed data stores, public cloud storage, files, and object stores, regardless of where they reside. \n",
      "    The foundation of HPE Ezmeral Unified Analytics is HPE Ezmeral Runtime Enterprise, which delivers containerized orchestration \n",
      "    of both cloud-native and non-cloud applications with a persistent data store. HPE Ezmeral Runtime Enterprise is designed to help organizations \n",
      "    simplify the development, orchestration, and scaling of Kubernetes-based clusters deployed across hybrid environments.\n",
      "    The platform can help data scientists, data engineers, and data analysts to support multiple enterprise-grade containerized AI/ML applications \n",
      "    via the following capabilities\n",
      "    • Multi-tenancy: With the platform’s control plane, organizations can spin up and orchestrate multiple standards-based Kubernetes clusters using physical or virtual compute (CPU or GPU) and storage resources located on-premises or in the public cloud. Organizations can also automate orchestration of workflows, allowing many experiments to be scheduled and run “hands free.” Thus, data science and development teams can share the same infrastructure stack with minimal impact on system performance.\n",
      "    • Unified data lake: The single global namespace provided by HPE Ezmeral Data Fabric provides a consolidated view into files that can reside in separate clusters across on-premises, cloud, and edge environments, thus enabling end-users and their applications to access remote data as if it is locally stored.\n",
      "    • Open platform/ecosystem: HPE Ezmeral Unified Analytics is built on an open source foundation that enables data analytics teams to deploy Kubernetes-based workloads into any AI/ML environment, comprising a wide range of open source tools, container engines, and libraries. NVIDIA Triton, RAPIDS Accelerator, and Apache Spark are included in the platform’s ISV marketplace (see Figure 10 in the Appendix for details).\n",
      "    • Security: Organizations can integrate HPE Ezmeral Runtime Enterprise with enterprise LDAP and AD authentication systems to secure access to jobs, data, or clusters based on groups and/or roles. Access to the multiple applications supported by the platform can be restricted according to business needs. Risk and compliance tenant structure allows for granular security structures.\n",
      "    \n",
      "</ctx>\n",
      "------\n",
      "<hs>\n",
      "Human: what is HPE Ezmeral Unified Analytics?\n",
      "AI: HPE Ezmeral Unified Analytics is a platform that provides a unified data lake, connecting distributed data stores, public cloud storage, files, and object stores regardless of their location. It is built on HPE Ezmeral Runtime Enterprise, which offers containerized orchestration for both cloud-native and non-cloud applications with a persistent data store. The platform supports multiple enterprise-grade containerized AI/ML applications and offers capabilities such as multi-tenancy, a unified data lake, an open platform/ecosystem, and security features.\n",
      "Human: What are its capabilities?\n",
      "AI: The capabilities of HPE Ezmeral Unified Analytics include:\n",
      "\n",
      "1. Multi-tenancy: The platform allows organizations to spin up and orchestrate multiple Kubernetes clusters using physical or virtual compute and storage resources. It enables automation of workflows and scheduling of experiments, allowing data science and development teams to share the same infrastructure stack with minimal impact on system performance.\n",
      "\n",
      "2. Unified data lake: HPE Ezmeral Data Fabric provides a single global namespace, allowing end-users and applications to access files stored in separate clusters across on-premises, cloud, and edge environments as if they were locally stored.\n",
      "\n",
      "3. Open platform/ecosystem: The platform is built on an open source foundation, enabling data analytics teams to deploy Kubernetes-based workloads in any AI/ML environment. It supports a wide range of open source tools, container engines, and libraries, including NVIDIA Triton, RAPIDS Accelerator, and Apache Spark.\n",
      "\n",
      "4. Security: Organizations can integrate HPE Ezmeral Runtime Enterprise with enterprise LDAP and AD authentication systems to secure access to jobs, data, or clusters based on groups and/or roles. Access to multiple applications supported by the platform can be restricted according to business needs, and it offers a risk and compliance tenant structure for granular security structures.\n",
      "Human: Can I import data from AWS S3 bucket into unified analytics?\n",
      "AI: Yes, HPE Ezmeral Unified Analytics allows you to import data from an AWS S3 bucket into the unified data lake. The platform provides a consolidated view into files that can reside in separate clusters across on-premises, cloud, and edge environments, allowing end-users and their applications to access remote data as if it is locally stored. This means you can access and utilize data stored in an AWS S3 bucket within the unified analytics platform.\n",
      "</hs>\n",
      "------\n",
      "Summarize its capabilities in < 20 words\n",
      "Answer:\n",
      "\u001b[0m\n",
      "\n",
      "\u001b[1m> Finished chain.\u001b[0m\n",
      "\n",
      "\u001b[1m> Finished chain.\u001b[0m\n",
      "\n",
      "\u001b[1m> Finished chain.\u001b[0m\n"
     ]
    },
    {
     "data": {
      "text/plain": [
       "'HPE Ezmeral Unified Analytics offers multi-tenancy, a unified data lake, an open platform/ecosystem, and security features.'"
      ]
     },
     "execution_count": 8,
     "metadata": {},
     "output_type": "execute_result"
    }
   ],
   "source": [
    "qa.run(\"Summarize its capabilities in < 20 words\")"
   ]
  },
  {
   "cell_type": "code",
   "execution_count": 7,
   "metadata": {},
   "outputs": [
    {
     "name": "stdout",
     "output_type": "stream",
     "text": [
      "\n",
      "\n",
      "\u001b[1m> Entering new  chain...\u001b[0m\n",
      "\n",
      "\n",
      "\u001b[1m> Entering new  chain...\u001b[0m\n",
      "\n",
      "\n",
      "\u001b[1m> Entering new  chain...\u001b[0m\n",
      "Prompt after formatting:\n",
      "\u001b[32;1m\u001b[1;3m\n",
      "Use the following context (delimited by <ctx></ctx>) and the chat history (delimited by <hs></hs>) to answer the question:\n",
      "------\n",
      "<ctx>\n",
      "HPE Ezmeral Unified Analytics, available in January 2022, has been designed to deliver a unified data lake that connects \n",
      "    distributed data stores, public cloud storage, files, and object stores, regardless of where they reside. \n",
      "    The foundation of HPE Ezmeral Unified Analytics is HPE Ezmeral Runtime Enterprise, which delivers containerized orchestration \n",
      "    of both cloud-native and non-cloud applications with a persistent data store. HPE Ezmeral Runtime Enterprise is designed to help organizations \n",
      "    simplify the development, orchestration, and scaling of Kubernetes-based clusters deployed across hybrid environments.\n",
      "    The platform can help data scientists, data engineers, and data analysts to support multiple enterprise-grade containerized AI/ML applications \n",
      "    via the following capabilities\n",
      "    • Multi-tenancy: With the platform’s control plane, organizations can spin up and orchestrate multiple standards-based Kubernetes clusters using physical or virtual compute (CPU or GPU) and storage resources located on-premises or in the public cloud. Organizations can also automate orchestration of workflows, allowing many experiments to be scheduled and run “hands free.” Thus, data science and development teams can share the same infrastructure stack with minimal impact on system performance.\n",
      "    • Unified data lake: The single global namespace provided by HPE Ezmeral Data Fabric provides a consolidated view into files that can reside in separate clusters across on-premises, cloud, and edge environments, thus enabling end-users and their applications to access remote data as if it is locally stored.\n",
      "    • Open platform/ecosystem: HPE Ezmeral Unified Analytics is built on an open source foundation that enables data analytics teams to deploy Kubernetes-based workloads into any AI/ML environment, comprising a wide range of open source tools, container engines, and libraries. NVIDIA Triton, RAPIDS Accelerator, and Apache Spark are included in the platform’s ISV marketplace (see Figure 10 in the Appendix for details).\n",
      "    • Security: Organizations can integrate HPE Ezmeral Runtime Enterprise with enterprise LDAP and AD authentication systems to secure access to jobs, data, or clusters based on groups and/or roles. Access to the multiple applications supported by the platform can be restricted according to business needs. Risk and compliance tenant structure allows for granular security structures.\n",
      "    \n",
      "</ctx>\n",
      "------\n",
      "<hs>\n",
      "Human: what is HPE Ezmeral Unified Analytics?\n",
      "AI: HPE Ezmeral Unified Analytics is a platform that provides a unified data lake, connecting distributed data stores, public cloud storage, files, and object stores regardless of their location. It is built on HPE Ezmeral Runtime Enterprise, which offers containerized orchestration for both cloud-native and non-cloud applications with a persistent data store. The platform supports multiple enterprise-grade containerized AI/ML applications and offers capabilities such as multi-tenancy, a unified data lake, an open platform/ecosystem, and security features.\n",
      "Human: What are its capabilities?\n",
      "AI: The capabilities of HPE Ezmeral Unified Analytics include:\n",
      "\n",
      "1. Multi-tenancy: The platform allows organizations to spin up and orchestrate multiple Kubernetes clusters using physical or virtual compute and storage resources. It enables automation of workflows and scheduling of experiments, allowing data science and development teams to share the same infrastructure stack with minimal impact on system performance.\n",
      "\n",
      "2. Unified data lake: HPE Ezmeral Data Fabric provides a single global namespace, allowing end-users and applications to access files stored in separate clusters across on-premises, cloud, and edge environments as if they were locally stored.\n",
      "\n",
      "3. Open platform/ecosystem: The platform is built on an open source foundation, enabling data analytics teams to deploy Kubernetes-based workloads in any AI/ML environment. It supports a wide range of open source tools, container engines, and libraries, including NVIDIA Triton, RAPIDS Accelerator, and Apache Spark.\n",
      "\n",
      "4. Security: Organizations can integrate HPE Ezmeral Runtime Enterprise with enterprise LDAP and AD authentication systems to secure access to jobs, data, or clusters based on groups and/or roles. Access to multiple applications supported by the platform can be restricted according to business needs, and it offers a risk and compliance tenant structure for granular security structures.\n",
      "</hs>\n",
      "------\n",
      "Can I import data from AWS S3 bucket into unified analytics?\n",
      "Answer:\n",
      "\u001b[0m\n",
      "\n",
      "\u001b[1m> Finished chain.\u001b[0m\n",
      "\n",
      "\u001b[1m> Finished chain.\u001b[0m\n",
      "\n",
      "\u001b[1m> Finished chain.\u001b[0m\n"
     ]
    },
    {
     "data": {
      "text/plain": [
       "'Yes, HPE Ezmeral Unified Analytics allows you to import data from an AWS S3 bucket into the unified data lake. The platform provides a consolidated view into files that can reside in separate clusters across on-premises, cloud, and edge environments, allowing end-users and their applications to access remote data as if it is locally stored. This means you can access and utilize data stored in an AWS S3 bucket within the unified analytics platform.'"
      ]
     },
     "execution_count": 7,
     "metadata": {},
     "output_type": "execute_result"
    }
   ],
   "source": [
    "qa.run(\"Can I import data from AWS S3 bucket into unified analytics?\")"
   ]
  },
  {
   "cell_type": "code",
   "execution_count": 9,
   "metadata": {},
   "outputs": [
    {
     "name": "stdout",
     "output_type": "stream",
     "text": [
      "\n",
      "\n",
      "\u001b[1m> Entering new  chain...\u001b[0m\n",
      "\n",
      "\n",
      "\u001b[1m> Entering new  chain...\u001b[0m\n",
      "\n",
      "\n",
      "\u001b[1m> Entering new  chain...\u001b[0m\n",
      "Prompt after formatting:\n",
      "\u001b[32;1m\u001b[1;3m\n",
      "Use the following context (delimited by <ctx></ctx>) and the chat history (delimited by <hs></hs>) to answer the question:\n",
      "------\n",
      "<ctx>\n",
      "HPE Ezmeral Unified Analytics, available in January 2022, has been designed to deliver a unified data lake that connects \n",
      "    distributed data stores, public cloud storage, files, and object stores, regardless of where they reside. \n",
      "    The foundation of HPE Ezmeral Unified Analytics is HPE Ezmeral Runtime Enterprise, which delivers containerized orchestration \n",
      "    of both cloud-native and non-cloud applications with a persistent data store. HPE Ezmeral Runtime Enterprise is designed to help organizations \n",
      "    simplify the development, orchestration, and scaling of Kubernetes-based clusters deployed across hybrid environments.\n",
      "    The platform can help data scientists, data engineers, and data analysts to support multiple enterprise-grade containerized AI/ML applications \n",
      "    via the following capabilities\n",
      "    • Multi-tenancy: With the platform’s control plane, organizations can spin up and orchestrate multiple standards-based Kubernetes clusters using physical or virtual compute (CPU or GPU) and storage resources located on-premises or in the public cloud. Organizations can also automate orchestration of workflows, allowing many experiments to be scheduled and run “hands free.” Thus, data science and development teams can share the same infrastructure stack with minimal impact on system performance.\n",
      "    • Unified data lake: The single global namespace provided by HPE Ezmeral Data Fabric provides a consolidated view into files that can reside in separate clusters across on-premises, cloud, and edge environments, thus enabling end-users and their applications to access remote data as if it is locally stored.\n",
      "    • Open platform/ecosystem: HPE Ezmeral Unified Analytics is built on an open source foundation that enables data analytics teams to deploy Kubernetes-based workloads into any AI/ML environment, comprising a wide range of open source tools, container engines, and libraries. NVIDIA Triton, RAPIDS Accelerator, and Apache Spark are included in the platform’s ISV marketplace (see Figure 10 in the Appendix for details).\n",
      "    • Security: Organizations can integrate HPE Ezmeral Runtime Enterprise with enterprise LDAP and AD authentication systems to secure access to jobs, data, or clusters based on groups and/or roles. Access to the multiple applications supported by the platform can be restricted according to business needs. Risk and compliance tenant structure allows for granular security structures.\n",
      "    \n",
      "</ctx>\n",
      "------\n",
      "<hs>\n",
      "Human: what is HPE Ezmeral Unified Analytics?\n",
      "AI: HPE Ezmeral Unified Analytics is a platform that provides a unified data lake, connecting distributed data stores, public cloud storage, files, and object stores regardless of their location. It is built on HPE Ezmeral Runtime Enterprise, which offers containerized orchestration for both cloud-native and non-cloud applications with a persistent data store. The platform supports multiple enterprise-grade containerized AI/ML applications and offers capabilities such as multi-tenancy, a unified data lake, an open platform/ecosystem, and security features.\n",
      "Human: What are its capabilities?\n",
      "AI: The capabilities of HPE Ezmeral Unified Analytics include:\n",
      "\n",
      "1. Multi-tenancy: The platform allows organizations to spin up and orchestrate multiple Kubernetes clusters using physical or virtual compute and storage resources. It enables automation of workflows and scheduling of experiments, allowing data science and development teams to share the same infrastructure stack with minimal impact on system performance.\n",
      "\n",
      "2. Unified data lake: HPE Ezmeral Data Fabric provides a single global namespace, allowing end-users and applications to access files stored in separate clusters across on-premises, cloud, and edge environments as if they were locally stored.\n",
      "\n",
      "3. Open platform/ecosystem: The platform is built on an open source foundation, enabling data analytics teams to deploy Kubernetes-based workloads in any AI/ML environment. It supports a wide range of open source tools, container engines, and libraries, including NVIDIA Triton, RAPIDS Accelerator, and Apache Spark.\n",
      "\n",
      "4. Security: Organizations can integrate HPE Ezmeral Runtime Enterprise with enterprise LDAP and AD authentication systems to secure access to jobs, data, or clusters based on groups and/or roles. Access to multiple applications supported by the platform can be restricted according to business needs, and it offers a risk and compliance tenant structure for granular security structures.\n",
      "Human: Can I import data from AWS S3 bucket into unified analytics?\n",
      "AI: Yes, HPE Ezmeral Unified Analytics allows you to import data from an AWS S3 bucket into the unified data lake. The platform provides a consolidated view into files that can reside in separate clusters across on-premises, cloud, and edge environments, allowing end-users and their applications to access remote data as if it is locally stored. This means you can access and utilize data stored in an AWS S3 bucket within the unified analytics platform.\n",
      "Human: Summarize its capabilities in < 20 words\n",
      "AI: HPE Ezmeral Unified Analytics offers multi-tenancy, a unified data lake, an open platform/ecosystem, and security features.\n",
      "</hs>\n",
      "------\n",
      "How can I build a data pipeline in Apache Airflow?\n",
      "Answer:\n",
      "\u001b[0m\n",
      "\n",
      "\u001b[1m> Finished chain.\u001b[0m\n",
      "\n",
      "\u001b[1m> Finished chain.\u001b[0m\n",
      "\n",
      "\u001b[1m> Finished chain.\u001b[0m\n"
     ]
    },
    {
     "data": {
      "text/plain": [
       "'The provided context and chat history do not contain any information about building a data pipeline in Apache Airflow.'"
      ]
     },
     "execution_count": 9,
     "metadata": {},
     "output_type": "execute_result"
    }
   ],
   "source": [
    "qa.run(\"How can I build a data pipeline in Apache Airflow?\")"
   ]
  },
  {
   "cell_type": "code",
   "execution_count": null,
   "metadata": {},
   "outputs": [],
   "source": []
  }
 ],
 "metadata": {
  "kernelspec": {
   "display_name": "Python 3",
   "language": "python",
   "name": "python3"
  },
  "language_info": {
   "codemirror_mode": {
    "name": "ipython",
    "version": 3
   },
   "file_extension": ".py",
   "mimetype": "text/x-python",
   "name": "python",
   "nbconvert_exporter": "python",
   "pygments_lexer": "ipython3",
   "version": "3.10.2"
  },
  "orig_nbformat": 4
 },
 "nbformat": 4,
 "nbformat_minor": 2
}
